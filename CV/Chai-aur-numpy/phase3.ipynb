{
 "cells": [
  {
   "cell_type": "markdown",
   "metadata": {
    "vscode": {
     "languageId": "plaintext"
    }
   },
   "source": [
    "## Advance operation with Business examples"
   ]
  },
  {
   "cell_type": "code",
   "execution_count": null,
   "metadata": {},
   "outputs": [],
   "source": [
    "import numpy as np\n",
    "import matplotlib.pyplot as plt"
   ]
  },
  {
   "cell_type": "code",
   "execution_count": null,
   "metadata": {},
   "outputs": [],
   "source": [
    "# Data structure: [restaurant_id, 2021, 2022, 2023, 2024]\n",
    "sales_data = np.array([\n",
    "    [1, 150000, 180000, 220000, 250000],  # Paradise Biryani\n",
    "    [2, 120000, 140000, 160000, 190000],  # Beijing Bites\n",
    "    [3, 200000, 230000, 260000, 300000],  # Pizza Hub\n",
    "    [4, 180000, 210000, 240000, 270000],  # Burger Point\n",
    "    [5, 160000, 185000, 205000, 230000]   # Chai Point\n",
    "])\n",
    "\n",
    "print(\"==== Zomato sales analysis ==== \")\n",
    "print(\"\\n Sales data shape\", sales_data.shape)\n",
    "print(\"\\n Sample data for 1st 3 restau: \", sales_data[:3])"
   ]
  },
  {
   "cell_type": "code",
   "execution_count": null,
   "metadata": {},
   "outputs": [],
   "source": [
    "# total sales per year\n",
    "print(np.sum(sales_data, axis=0))\n",
    "yeary_total = np.sum(sales_data[:, 1:], axis=0)\n",
    "print(yeary_total)\n",
    "\n",
    "# Minimum sales per restaurant\n",
    "min_sales = np.min(sales_data[:, 1:], axis=1)\n",
    "print(min_sales)\n",
    "\n",
    "# Maximum sales per year\n",
    "max_sales = np.max(sales_data[:, 1:], axis=0)\n",
    "print(max_sales)\n",
    "\n",
    "# Average sales per restautant\n",
    "avg_sales = np.mean(sales_data[:, 1:], axis=1)\n",
    "print(avg_sales)"
   ]
  },
  {
   "cell_type": "code",
   "execution_count": null,
   "metadata": {},
   "outputs": [],
   "source": [
    "cumsum = np.cumsum(sales_data[:, 1:], axis=1)\n",
    "print(cumsum)\n",
    "\n",
    "plt.figure(figsize=(8, 6))\n",
    "plt.plot(np.mean(cumsum, axis=0))\n",
    "plt.title(\"Average cumulative sales accross all restaurant \")\n",
    "plt.xlabel(\"Years\")\n",
    "plt.ylabel(\"Sales\")\n",
    "plt.grid(True)\n",
    "plt.show()"
   ]
  },
  {
   "cell_type": "code",
   "execution_count": null,
   "metadata": {},
   "outputs": [],
   "source": [
    "vector1 = np.array([1, 2, 3, 4, 5])\n",
    "vector2 = np.array([6, 7, 8, 9, 10])\n",
    "\n",
    "print(\"Vector addition: \", vector1 + vector2)\n",
    "\n",
    "print(\"\\n Multiplication vector\", vector1 * vector2)\n",
    "\n",
    "print(\"\\nDot Product\", np.dot(vector1, vector2))\n",
    "\n",
    "angle = np.arccos(np.dot(vector1, vector2) / (np.linalg.norm(vector1) * np.linalg.norm(vector2)))\n",
    "print(angle)"
   ]
  },
  {
   "cell_type": "code",
   "execution_count": null,
   "metadata": {},
   "outputs": [],
   "source": [
    "restaurant_types = np.array(['biryani', 'chinese', 'pizza', 'burger', 'cafe'])\n",
    "vectorized_upper = np.vectorize(str.upper)\n",
    "print(\"Vectorized Upper\", vectorized_upper(restaurant_types))"
   ]
  },
  {
   "cell_type": "code",
   "execution_count": null,
   "metadata": {},
   "outputs": [],
   "source": [
    "monthly_avg = sales_data[:, 1:] / 12\n",
    "\n",
    "print(monthly_avg)\n",
    "\n"
   ]
  }
 ],
 "metadata": {
  "kernelspec": {
   "display_name": ".venv",
   "language": "python",
   "name": "python3"
  },
  "language_info": {
   "codemirror_mode": {
    "name": "ipython",
    "version": 3
   },
   "file_extension": ".py",
   "mimetype": "text/x-python",
   "name": "python",
   "nbconvert_exporter": "python",
   "pygments_lexer": "ipython3",
   "version": "3.10.16"
  }
 },
 "nbformat": 4,
 "nbformat_minor": 2
}
